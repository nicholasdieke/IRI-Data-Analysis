{
 "cells": [
  {
   "attachments": {},
   "cell_type": "markdown",
   "metadata": {},
   "source": [
    "# <font color=#003091> Big Data Project: IRI Academic Data Set Analysis </font>\n",
    "### <font color=#0098df> Master in Computer Science & Business Technology</font>\n",
    "#### <font color=#a6a6a6> Year: 2023</font>  \n",
    "**Nicholas Dieke**\n",
    "\n",
    "This notebook shows some analyses on the dataset."
   ]
  },
  {
   "cell_type": "code",
   "execution_count": 2,
   "metadata": {},
   "outputs": [],
   "source": [
    "import pandas as pd\n",
    "from pyspark.sql import SparkSession\n",
    "from pyspark.sql.functions import col, concat, lpad, lit\n",
    "from pyspark.sql import functions as F\n"
   ]
  },
  {
   "attachments": {},
   "cell_type": "markdown",
   "metadata": {},
   "source": [
    "## Loading Datasets\n",
    "Creates a SparkSession named spark and reads multiple CSV files into PySpark DataFrames."
   ]
  },
  {
   "cell_type": "code",
   "execution_count": 3,
   "metadata": {},
   "outputs": [],
   "source": [
    "spark = SparkSession.builder.getOrCreate()\n",
    "stores = spark.read.csv(\"Saltsnck_US_1of2/Delivery_Stores.csv\", header=True)\n",
    "products = spark.read.csv(\"Saltsnck_US_1of2/prod_saltsnck.csv\", header=True)\n",
    "attributes = spark.read.csv(\"Saltsnck_US_1of2/saltsnck_prod_attr.csv\", header=True)\n",
    "weeks = spark.read.csv(\"Saltsnck_US_1of2/IRI week translation_2008_2017.csv\", header=True)\n",
    "sell_out = spark.read.csv(\"saltsnck_groc.csv\", header=True)"
   ]
  },
  {
   "cell_type": "code",
   "execution_count": 4,
   "metadata": {},
   "outputs": [
    {
     "data": {
      "text/plain": [
       "[Row(IRI_KEY='234212', WEEK='1635', SY='0', GE='3', VEND='78271', ITEM='2060', UNITS='6', DOLLARS='12.00', F='NONE', D='0', PR='1'),\n",
       " Row(IRI_KEY='234212', WEEK='1635', SY='0', GE='3', VEND='78271', ITEM='2061', UNITS='4', DOLLARS='8.79', F='NONE', D='0', PR='1'),\n",
       " Row(IRI_KEY='234212', WEEK='1635', SY='0', GE='1', VEND='84114', ITEM='11336', UNITS='5', DOLLARS='15.00', F='NONE', D='0', PR='0')]"
      ]
     },
     "execution_count": 4,
     "metadata": {},
     "output_type": "execute_result"
    }
   ],
   "source": [
    "sell_out.head(3)"
   ]
  },
  {
   "attachments": {},
   "cell_type": "markdown",
   "metadata": {},
   "source": [
    "## Create UPC Feature\n",
    "Perform column transformations (padding) to create UPC feature"
   ]
  },
  {
   "cell_type": "code",
   "execution_count": 5,
   "metadata": {},
   "outputs": [],
   "source": [
    "attributes = attributes.withColumn(\"SY\", lpad(col(\"SY\").cast(\"string\"), 2, \"0\"))\n",
    "attributes = attributes.withColumn(\"GE\", lpad(col(\"GE\").cast(\"string\"), 2, \"0\"))\n",
    "attributes = attributes.withColumn(\"VEND\", lpad(col(\"VEND\").cast(\"string\"), 5, \"0\"))\n",
    "attributes = attributes.withColumn(\"ITEM\", lpad(col(\"ITEM\").cast(\"string\"), 5, \"0\"))\n",
    "\n",
    "attributes = attributes.withColumn(\"UPC\", concat(col(\"SY\"), lit(\"-\"), col(\"GE\"), lit(\"-\"), col(\"VEND\"), lit(\"-\"), col(\"ITEM\")))"
   ]
  },
  {
   "cell_type": "code",
   "execution_count": 6,
   "metadata": {},
   "outputs": [],
   "source": [
    "sell_out = sell_out.withColumn(\"SY\", lpad(col(\"SY\").cast(\"string\"), 2, \"0\"))\n",
    "sell_out = sell_out.withColumn(\"GE\", lpad(col(\"GE\").cast(\"string\"), 2, \"0\"))\n",
    "sell_out = sell_out.withColumn(\"VEND\", lpad(col(\"VEND\").cast(\"string\"), 5, \"0\"))\n",
    "sell_out = sell_out.withColumn(\"ITEM\", lpad(col(\"ITEM\").cast(\"string\"), 5, \"0\"))\n",
    "\n",
    "sell_out = sell_out.withColumn(\"UPC\", concat(col(\"SY\"), lit(\"-\"), col(\"GE\"), lit(\"-\"), col(\"VEND\"), lit(\"-\"), col(\"ITEM\")))"
   ]
  },
  {
   "attachments": {},
   "cell_type": "markdown",
   "metadata": {},
   "source": [
    "## Merging Datasets\n",
    "We merge the five datasets together using either IRI_KEY or UPC"
   ]
  },
  {
   "cell_type": "code",
   "execution_count": 7,
   "metadata": {},
   "outputs": [],
   "source": [
    "merged_df = sell_out.join(stores, on=\"IRI_KEY\", how=\"left\")\n"
   ]
  },
  {
   "cell_type": "code",
   "execution_count": 8,
   "metadata": {},
   "outputs": [],
   "source": [
    "weeks = weeks.select(\"IRI Week\", \"Calendar week starting on\", \"Calendar week ending on\")\n",
    "merged_df = merged_df.join(weeks, merged_df[\"WEEK\"] == weeks[\"IRI Week\"], \"left\")"
   ]
  },
  {
   "cell_type": "code",
   "execution_count": 9,
   "metadata": {},
   "outputs": [],
   "source": [
    "# Select relevant features and merge\n",
    "products = products.select('UPC', 'ITEM', 'PRODUCT TYPE', 'L3', 'L5', 'L9')\n",
    "merged_df = merged_df.join(products, on=\"UPC\", how=\"left\")"
   ]
  },
  {
   "cell_type": "code",
   "execution_count": 10,
   "metadata": {},
   "outputs": [],
   "source": [
    "# Select relevant features and merge\n",
    "attributes = attributes.select('UPC', 'PRODUCT TYPE')\n",
    "merged_df = merged_df.join(attributes, on='UPC', how='left')"
   ]
  },
  {
   "cell_type": "code",
   "execution_count": 11,
   "metadata": {},
   "outputs": [
    {
     "data": {
      "text/plain": [
       "[Row(UPC='00-03-78271-02060', IRI_KEY='234212', WEEK='1635', SY='00', GE='03', VEND='78271', ITEM='02060', UNITS='6', DOLLARS='12.00', F='NONE', D='0', PR='1', _c0='239', OU='GR', EST_ACV='34.041990000000006', Market_Name='CHICAGO', Open='435', Clsd='9998', MskdName='Chain42', IRI Week='1635', Calendar week starting on='2010-12-27', Calendar week ending on='2011-01-02', ITEM=None, PRODUCT TYPE=None, L3=None, L5=None, L9=None, PRODUCT TYPE='POTATO CHIP'),\n",
       " Row(UPC='00-03-78271-02061', IRI_KEY='234212', WEEK='1635', SY='00', GE='03', VEND='78271', ITEM='02061', UNITS='4', DOLLARS='8.79', F='NONE', D='0', PR='1', _c0='239', OU='GR', EST_ACV='34.041990000000006', Market_Name='CHICAGO', Open='435', Clsd='9998', MskdName='Chain42', IRI Week='1635', Calendar week starting on='2010-12-27', Calendar week ending on='2011-01-02', ITEM=None, PRODUCT TYPE=None, L3=None, L5=None, L9=None, PRODUCT TYPE='POTATO CHIP'),\n",
       " Row(UPC='00-01-84114-11336', IRI_KEY='234212', WEEK='1635', SY='00', GE='01', VEND='84114', ITEM='11336', UNITS='5', DOLLARS='15.00', F='NONE', D='0', PR='0', _c0='239', OU='GR', EST_ACV='34.041990000000006', Market_Name='CHICAGO', Open='435', Clsd='9998', MskdName='Chain42', IRI Week='1635', Calendar week starting on='2010-12-27', Calendar week ending on='2011-01-02', ITEM=None, PRODUCT TYPE=None, L3=None, L5=None, L9=None, PRODUCT TYPE='POTATO CHIP')]"
      ]
     },
     "execution_count": 11,
     "metadata": {},
     "output_type": "execute_result"
    }
   ],
   "source": [
    "merged_df.head(3)"
   ]
  },
  {
   "attachments": {},
   "cell_type": "markdown",
   "metadata": {},
   "source": [
    "## Pepsico Revenue and Volume for 2011\n",
    "\n",
    "- 2011 Pepsico Revenue: **$332,054,362**\n",
    "\n",
    "- 2011 Pepsico Units Sold: **126,315,847 units**"
   ]
  },
  {
   "cell_type": "code",
   "execution_count": 12,
   "metadata": {},
   "outputs": [
    {
     "data": {
      "text/plain": [
       "[Row(VEND='28400', first(L3)='PEPSICO INC'),\n",
       " Row(VEND='30000', first(L3)='PEPSICO INC'),\n",
       " Row(VEND='71461', first(L3)='PEPSICO INC')]"
      ]
     },
     "execution_count": 12,
     "metadata": {},
     "output_type": "execute_result"
    }
   ],
   "source": [
    "merged_df.filter(merged_df[\"L3\"].contains(\"PEPS\")).groupBy('VEND').agg(F.first(\"L3\")).head(10)"
   ]
  },
  {
   "cell_type": "code",
   "execution_count": 15,
   "metadata": {},
   "outputs": [
    {
     "name": "stdout",
     "output_type": "stream",
     "text": [
      "2011 Revenue:  332054362.18951464\n",
      "2011 Units:  126315847.0\n"
     ]
    }
   ],
   "source": [
    "pepsico_vend_codes = ['28400', '30000', '71461']\n",
    "\n",
    "merged_df_2011 = merged_df.filter(merged_df[\"Calendar week starting on\"].contains(\"2011\"))\n",
    "pepsico_2011 = merged_df_2011.filter(merged_df_2011[\"VEND\"].isin(pepsico_vend_codes))\n",
    "\n",
    "merged_df_2012 = merged_df.filter(merged_df[\"Calendar week starting on\"].contains(\"2012\"))\n",
    "pepsico_2012 = merged_df_2012.filter(merged_df_2012[\"VEND\"].isin(pepsico_vend_codes))\n",
    "\n",
    "sum_dollars_2011 = pepsico_2011.agg(F.sum(\"DOLLARS\")).collect()[0][0]\n",
    "sum_units_2011 = pepsico_2011.agg(F.sum(\"UNITS\")).collect()[0][0]\n",
    "print(\"2011 Revenue: \",sum_dollars_2011)\n",
    "print(\"2011 Units: \",sum_units_2011)"
   ]
  },
  {
   "attachments": {},
   "cell_type": "markdown",
   "metadata": {},
   "source": [
    "## Pepsico Top 3 Regions 2011\n",
    "\n",
    "1. **Los Angeles** ($26,212,674)\n",
    "2. **New York** ($21,566,451)\n",
    "3. **Chicago** ($14,315,358)"
   ]
  },
  {
   "cell_type": "code",
   "execution_count": 16,
   "metadata": {},
   "outputs": [
    {
     "data": {
      "text/plain": [
       "[Row(Market_Name='LOS ANGELES', SUM_DOLLARS=26212674.080007784),\n",
       " Row(Market_Name='NEW YORK', SUM_DOLLARS=21566451.110004514),\n",
       " Row(Market_Name='CHICAGO', SUM_DOLLARS=14315358.299999913)]"
      ]
     },
     "execution_count": 16,
     "metadata": {},
     "output_type": "execute_result"
    }
   ],
   "source": [
    "sum__2011_df = pepsico_2011.groupBy(\"Market_Name\").agg(F.sum(\"DOLLARS\").alias(\"SUM_DOLLARS\")).orderBy(F.desc(\"SUM_DOLLARS\"))\n",
    "sum__2011_df.head(3)"
   ]
  },
  {
   "attachments": {},
   "cell_type": "markdown",
   "metadata": {},
   "source": [
    "## Pepsico Top 3 Regions 2012\n",
    "\n",
    "1. **Los Angeles** ($27,206,073)\n",
    "2. **New York** ($22,033,104)\n",
    "3. **Chicago** ($14,271,019)"
   ]
  },
  {
   "cell_type": "code",
   "execution_count": 17,
   "metadata": {},
   "outputs": [
    {
     "data": {
      "text/plain": [
       "[Row(Market_Name='LOS ANGELES', SUM_DOLLARS=27206073.270008586),\n",
       " Row(Market_Name='NEW YORK', SUM_DOLLARS=22033103.980004217),\n",
       " Row(Market_Name='CHICAGO', SUM_DOLLARS=14271018.740001548)]"
      ]
     },
     "execution_count": 17,
     "metadata": {},
     "output_type": "execute_result"
    }
   ],
   "source": [
    "sum__2012_df = pepsico_2012.groupBy(\"Market_Name\").agg(F.sum(\"DOLLARS\").alias(\"SUM_DOLLARS\")).orderBy(F.desc(\"SUM_DOLLARS\"))\n",
    "sum__2012_df.head(3)"
   ]
  },
  {
   "attachments": {},
   "cell_type": "markdown",
   "metadata": {},
   "source": [
    "## Pepsico Market Share 2011\n",
    "\n",
    "2011 Market Share: **59.13%**"
   ]
  },
  {
   "cell_type": "code",
   "execution_count": 19,
   "metadata": {},
   "outputs": [
    {
     "data": {
      "text/plain": [
       "0.5913256213344841"
      ]
     },
     "execution_count": 19,
     "metadata": {},
     "output_type": "execute_result"
    }
   ],
   "source": [
    "market_share_2011_pepsico = pepsico_2011.agg(F.sum(\"DOLLARS\")).collect()[0][0] / merged_df_2011.agg(F.sum(\"DOLLARS\")).collect()[0][0]\n",
    "market_share_2011_pepsico"
   ]
  },
  {
   "attachments": {},
   "cell_type": "markdown",
   "metadata": {},
   "source": [
    "## Pepsico Market Share 2012\n",
    "\n",
    "2012 Market Share: **58.83%**"
   ]
  },
  {
   "cell_type": "code",
   "execution_count": 20,
   "metadata": {},
   "outputs": [
    {
     "data": {
      "text/plain": [
       "0.5883610351197499"
      ]
     },
     "execution_count": 20,
     "metadata": {},
     "output_type": "execute_result"
    }
   ],
   "source": [
    "market_share_2012_pepsico = pepsico_2012.agg(F.sum(\"DOLLARS\")).collect()[0][0] / merged_df_2012.agg(F.sum(\"DOLLARS\")).collect()[0][0]\n",
    "market_share_2012_pepsico"
   ]
  },
  {
   "attachments": {},
   "cell_type": "markdown",
   "metadata": {},
   "source": [
    "## Top PepsiCo Customers in New York in 2011\n",
    "\n",
    "1. **Chain98** ($4,815,088)\n",
    "2. **Chain112** ($4,725,130)\n",
    "3. **Chain5** ($4,574,273)\n",
    "4. **Chain73** ($2,979,815)\n",
    "5. **Chain110** ($1,111,449)"
   ]
  },
  {
   "cell_type": "code",
   "execution_count": 21,
   "metadata": {},
   "outputs": [],
   "source": [
    "pepsico_2011_NY = pepsico_2011.filter(merged_df[\"Market_Name\"].contains(\"NEW YORK\"))\n",
    "retailer_revenues_2011 = pepsico_2011_NY.groupBy(\"MskdName\").agg(F.sum(\"DOLLARS\").alias(\"SUM_DOLLARS\")).orderBy(F.desc(\"SUM_DOLLARS\"))\n",
    "retailer_revenues_2011.head(5)"
   ]
  },
  {
   "attachments": {},
   "cell_type": "markdown",
   "metadata": {},
   "source": [
    "## Top PepsiCo Customers in New York in 2012\n",
    "\n",
    "1. **Chain112** ($4,835,976)\n",
    "2. **Chain98** ($4,791,504)\n",
    "3. **Chain5** ($4,757,187)\n",
    "4. **Chain73** ($3,017,525)\n",
    "5. **Chain110** ($1,141,277)"
   ]
  },
  {
   "cell_type": "code",
   "execution_count": 24,
   "metadata": {},
   "outputs": [
    {
     "data": {
      "text/plain": [
       "[Row(MskdName='Chain112', SUM_DOLLARS=4835975.539999725),\n",
       " Row(MskdName='Chain98', SUM_DOLLARS=4791504.039999706),\n",
       " Row(MskdName='Chain5', SUM_DOLLARS=4757187.459999587),\n",
       " Row(MskdName='Chain73', SUM_DOLLARS=3017525.3799998136),\n",
       " Row(MskdName='Chain110', SUM_DOLLARS=1141277.0799999998)]"
      ]
     },
     "execution_count": 24,
     "metadata": {},
     "output_type": "execute_result"
    }
   ],
   "source": [
    "pepsico_2012_NY = pepsico_2012.filter(merged_df[\"Market_Name\"].contains(\"NEW YORK\"))\n",
    "retailer_revenues_2012 = pepsico_2012_NY.groupBy(\"MskdName\").agg(F.sum(\"DOLLARS\").alias(\"SUM_DOLLARS\")).orderBy(F.desc(\"SUM_DOLLARS\"))\n",
    "retailer_revenues_2012.head(5)"
   ]
  },
  {
   "attachments": {},
   "cell_type": "markdown",
   "metadata": {},
   "source": [
    "## Top Products in New York in 2011\n",
    "\n",
    "1. **00-03-28400-03345** ($1,022,581)\n",
    "2. **00-01-28400-03875** ($1,015,517)\n",
    "3. **00-02-28400-06408** ($975,795)\n",
    "4. **00-02-28400-06399** ($830,449)\n",
    "5. **00-01-28400-03346** ($608,710)"
   ]
  },
  {
   "cell_type": "code",
   "execution_count": 27,
   "metadata": {},
   "outputs": [
    {
     "data": {
      "text/plain": [
       "[Row(UPC='00-03-28400-03345', SUM_DOLLARS=1022580.7299999997),\n",
       " Row(UPC='00-01-28400-03875', SUM_DOLLARS=1015516.7400000006),\n",
       " Row(UPC='00-02-28400-06408', SUM_DOLLARS=975795.2800000004),\n",
       " Row(UPC='00-02-28400-06399', SUM_DOLLARS=830449.3699999999),\n",
       " Row(UPC='00-01-28400-03346', SUM_DOLLARS=608710.1100000002)]"
      ]
     },
     "execution_count": 27,
     "metadata": {},
     "output_type": "execute_result"
    }
   ],
   "source": [
    "merged_df_2011_NY = merged_df_2011.filter(merged_df[\"Market_Name\"].contains(\"NEW YORK\"))\n",
    "top_products_dollars_2011 = merged_df_2011_NY.groupBy(\"UPC\").agg(F.sum(\"DOLLARS\").alias(\"SUM_DOLLARS\"), F.avg(\"PR\").alias(\"AVG_PR\")).orderBy(F.desc(\"SUM_DOLLARS\"))\n",
    "top_products_dollars_2011.select(\"UPC\", \"SUM_DOLLARS\").head(5)"
   ]
  },
  {
   "attachments": {},
   "cell_type": "markdown",
   "metadata": {},
   "source": [
    "## Top Products in New York in 2012\n",
    "\n",
    "1. **00-01-28400-03875** ($1,399,523)\n",
    "2. **00-03-28400-03345** ($1,382,586)\n",
    "3. **00-03-28400-06408** ($1,112,857)\n",
    "4. **00-01-28400-03854** ($753,409)\n",
    "5. **00-02-28400-06399** ($741,246)"
   ]
  },
  {
   "cell_type": "code",
   "execution_count": 28,
   "metadata": {},
   "outputs": [
    {
     "data": {
      "text/plain": [
       "[Row(UPC='00-01-28400-03875', SUM_DOLLARS=1399523.4899999995),\n",
       " Row(UPC='00-03-28400-03345', SUM_DOLLARS=1382585.5199999996),\n",
       " Row(UPC='00-03-28400-06408', SUM_DOLLARS=1112857.14),\n",
       " Row(UPC='00-01-28400-03854', SUM_DOLLARS=753409.0200000005),\n",
       " Row(UPC='00-02-28400-06399', SUM_DOLLARS=741246.2599999997)]"
      ]
     },
     "execution_count": 28,
     "metadata": {},
     "output_type": "execute_result"
    }
   ],
   "source": [
    "merged_df_2012_NY = merged_df_2012.filter(merged_df[\"Market_Name\"].contains(\"NEW YORK\"))\n",
    "top_products_dollars_2012 = merged_df_2012_NY.groupBy(\"UPC\").agg(F.sum(\"DOLLARS\").alias(\"SUM_DOLLARS\"), F.avg(\"PR\").alias(\"AVG_PR\")).orderBy(F.desc(\"SUM_DOLLARS\"))\n",
    "top_products_dollars_2012.select(\"UPC\", \"SUM_DOLLARS\").head(5)"
   ]
  },
  {
   "attachments": {},
   "cell_type": "markdown",
   "metadata": {},
   "source": [
    "## Promotional Strength of Top 3 Products in New York in 2011\n",
    "\n",
    "1. 00-01-28400-03875 (**0.542**)\n",
    "2. 00-03-28400-03345 (**0.545**)\n",
    "3. 00-03-28400-06408 (**0.466**)"
   ]
  },
  {
   "cell_type": "code",
   "execution_count": 30,
   "metadata": {},
   "outputs": [
    {
     "data": {
      "text/plain": [
       "[Row(UPC='00-03-28400-03345', AVG_PR=0.5421597633136095),\n",
       " Row(UPC='00-01-28400-03875', AVG_PR=0.545025931164545),\n",
       " Row(UPC='00-02-28400-06408', AVG_PR=0.46569400630914826)]"
      ]
     },
     "execution_count": 30,
     "metadata": {},
     "output_type": "execute_result"
    }
   ],
   "source": [
    "top_products_dollars_2011.select(\"UPC\", \"AVG_PR\").head(3)"
   ]
  },
  {
   "attachments": {},
   "cell_type": "markdown",
   "metadata": {},
   "source": [
    "## Promotional Strength of Top 3 Products in New York in 2012\n",
    "\n",
    "1. 00-01-28400-03875 (**0.586**)\n",
    "2. 00-03-28400-03345 (**0.608**)\n",
    "3. 00-03-28400-06408 (**0.478**)"
   ]
  },
  {
   "cell_type": "code",
   "execution_count": 31,
   "metadata": {},
   "outputs": [
    {
     "data": {
      "text/plain": [
       "[Row(UPC='00-01-28400-03875', AVG_PR=0.5857142857142857),\n",
       " Row(UPC='00-03-28400-03345', AVG_PR=0.6079986209274263),\n",
       " Row(UPC='00-03-28400-06408', AVG_PR=0.4783657990001724)]"
      ]
     },
     "execution_count": 31,
     "metadata": {},
     "output_type": "execute_result"
    }
   ],
   "source": [
    "top_products_dollars_2012.select(\"UPC\", \"AVG_PR\").head(3)"
   ]
  },
  {
   "attachments": {},
   "cell_type": "markdown",
   "metadata": {},
   "source": [
    "## Pepsico Volume Sold on Deal (VSoD) in 2011\n",
    "\n",
    "VSoD: **3,956,230 units (50.53%)**"
   ]
  },
  {
   "cell_type": "code",
   "execution_count": 35,
   "metadata": {},
   "outputs": [
    {
     "name": "stdout",
     "output_type": "stream",
     "text": [
      "VSoD:  3956230.0\n",
      "% VSoD:  0.5053279235563515\n"
     ]
    }
   ],
   "source": [
    "vsod_ny_2011 = pepsico_2011_NY.filter(pepsico_2011_NY[\"PR\"] != 0).agg(F.sum(\"UNITS\")).collect()[0][0]\n",
    "vsod_pct_ny_2011 = vsod_ny_2011/(merged_df_2011_NY.filter(pepsico_2011_NY[\"PR\"]!= 0).agg(F.sum(\"UNITS\")).collect()[0][0])\n",
    "print(\"VSoD: \",vsod_ny_2011)\n",
    "print(\"% VSoD: \",vsod_pct_ny_2011)"
   ]
  },
  {
   "attachments": {},
   "cell_type": "markdown",
   "metadata": {},
   "source": [
    "## Pepsico Volume Sold on Deal (VSoD) in 2012\n",
    "\n",
    "VSoD: **4,255,249 units (53.94%)**"
   ]
  },
  {
   "cell_type": "code",
   "execution_count": 36,
   "metadata": {},
   "outputs": [
    {
     "name": "stdout",
     "output_type": "stream",
     "text": [
      "VSoD:  4255249.0\n",
      "% VSoD:  0.5393542020141641\n"
     ]
    }
   ],
   "source": [
    "vsod_ny_2012 = pepsico_2012_NY.filter(pepsico_2012_NY[\"PR\"] != 0).agg(F.sum(\"UNITS\")).collect()[0][0]\n",
    "vsod_pct_ny_2012 = vsod_ny_2012/(merged_df_2012_NY.filter(pepsico_2012_NY[\"PR\"] != 0).agg(F.sum(\"UNITS\")).collect()[0][0])\n",
    "print(\"VSoD: \",vsod_ny_2012)\n",
    "print(\"% VSoD: \",vsod_pct_ny_2012)"
   ]
  },
  {
   "attachments": {},
   "cell_type": "markdown",
   "metadata": {},
   "source": [
    "## Time Series Chart Data"
   ]
  },
  {
   "cell_type": "code",
   "execution_count": 39,
   "metadata": {},
   "outputs": [
    {
     "data": {
      "text/plain": [
       "[Row(UPC='00-01-00901-00003', WEEK='1643', sum(DOLLARS)=23.87, sum(UNITS)=13.0, avg(PR)=0.0, avg(D)=0.3333333333333333, first(VEND)='00901', first(L3)='RAB HOLDINGS', first(L5)='GUILTLESS GOURMET', first(L9)='+GLTLG MHNCH TRCHP TRNGL 7OZ'),\n",
       " Row(UPC='00-01-00901-00003', WEEK='1656', sum(DOLLARS)=19.369999999999997, sum(UNITS)=13.0, avg(PR)=1.0, avg(D)=0.0, first(VEND)='00901', first(L3)='RAB HOLDINGS', first(L5)='GUILTLESS GOURMET', first(L9)='+GLTLG MHNCH TRCHP TRNGL 7OZ'),\n",
       " Row(UPC='00-01-00901-00003', WEEK='1668', sum(DOLLARS)=14.95, sum(UNITS)=5.0, avg(PR)=0.0, avg(D)=0.0, first(VEND)='00901', first(L3)='RAB HOLDINGS', first(L5)='GUILTLESS GOURMET', first(L9)='+GLTLG MHNCH TRCHP TRNGL 7OZ'),\n",
       " Row(UPC='00-01-00901-00003', WEEK='1675', sum(DOLLARS)=13.93, sum(UNITS)=7.0, avg(PR)=1.0, avg(D)=0.0, first(VEND)='00901', first(L3)='RAB HOLDINGS', first(L5)='GUILTLESS GOURMET', first(L9)='+GLTLG MHNCH TRCHP TRNGL 7OZ'),\n",
       " Row(UPC='00-01-00901-00003', WEEK='1676', sum(DOLLARS)=5.98, sum(UNITS)=2.0, avg(PR)=0.0, avg(D)=0.0, first(VEND)='00901', first(L3)='RAB HOLDINGS', first(L5)='GUILTLESS GOURMET', first(L9)='+GLTLG MHNCH TRCHP TRNGL 7OZ')]"
      ]
     },
     "execution_count": 39,
     "metadata": {},
     "output_type": "execute_result"
    }
   ],
   "source": [
    "merged_df_NY = merged_df.filter(merged_df[\"Market_Name\"].contains(\"NEW YORK\"))\n",
    "\n",
    "chart_df = merged_df_NY.groupBy(\"UPC\",\"WEEK\").agg(F.sum(\"DOLLARS\"), F.sum(\"UNITS\"), F.avg(\"PR\"), F.avg(\"D\"), F.first(\"VEND\"), F.first(\"L3\"), F.first(\"L5\"), F.first(\"L9\"))\n",
    "chart_df.head(5)"
   ]
  },
  {
   "cell_type": "code",
   "execution_count": 40,
   "metadata": {},
   "outputs": [],
   "source": [
    "chart_df.toPandas().to_csv(\"chart_data.csv\")"
   ]
  }
 ],
 "metadata": {
  "kernelspec": {
   "display_name": "base",
   "language": "python",
   "name": "python3"
  },
  "language_info": {
   "codemirror_mode": {
    "name": "ipython",
    "version": 3
   },
   "file_extension": ".py",
   "mimetype": "text/x-python",
   "name": "python",
   "nbconvert_exporter": "python",
   "pygments_lexer": "ipython3",
   "version": "3.8.5"
  },
  "orig_nbformat": 4
 },
 "nbformat": 4,
 "nbformat_minor": 2
}
